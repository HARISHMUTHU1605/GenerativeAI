{
  "nbformat": 4,
  "nbformat_minor": 0,
  "metadata": {
    "colab": {
      "provenance": [],
      "authorship_tag": "ABX9TyMU25Ce9EANAvr8q25eWEj0",
      "include_colab_link": true
    },
    "kernelspec": {
      "name": "python3",
      "display_name": "Python 3"
    },
    "language_info": {
      "name": "python"
    }
  },
  "cells": [
    {
      "cell_type": "markdown",
      "metadata": {
        "id": "view-in-github",
        "colab_type": "text"
      },
      "source": [
        "<a href=\"https://colab.research.google.com/github/HARISHMUTHU1605/GenerativeAI/blob/main/Customer_segmentation_Unsupervised_learning.ipynb\" target=\"_parent\"><img src=\"https://colab.research.google.com/assets/colab-badge.svg\" alt=\"Open In Colab\"/></a>"
      ]
    },
    {
      "cell_type": "code",
      "execution_count": null,
      "metadata": {
        "colab": {
          "base_uri": "https://localhost:8080/",
          "height": 626
        },
        "id": "FlJFm9smuDgb",
        "outputId": "fff64500-87e6-425e-bf44-d875227c8bd6"
      },
      "outputs": [
        {
          "output_type": "stream",
          "name": "stdout",
          "text": [
            "It looks like you are running Gradio on a hosted a Jupyter notebook. For the Gradio app to work, sharing must be enabled. Automatically setting `share=True` (you can turn this off by setting `share=False` in `launch()` explicitly).\n",
            "\n",
            "Colab notebook detected. To show errors in colab notebook, set debug=True in launch()\n",
            "* Running on public URL: https://f37afc0efe01e7af29.gradio.live\n",
            "\n",
            "This share link expires in 1 week. For free permanent hosting and GPU upgrades, run `gradio deploy` from the terminal in the working directory to deploy to Hugging Face Spaces (https://huggingface.co/spaces)\n"
          ]
        },
        {
          "output_type": "display_data",
          "data": {
            "text/plain": [
              "<IPython.core.display.HTML object>"
            ],
            "text/html": [
              "<div><iframe src=\"https://f37afc0efe01e7af29.gradio.live\" width=\"100%\" height=\"500\" allow=\"autoplay; camera; microphone; clipboard-read; clipboard-write;\" frameborder=\"0\" allowfullscreen></iframe></div>"
            ]
          },
          "metadata": {}
        },
        {
          "output_type": "execute_result",
          "data": {
            "text/plain": []
          },
          "metadata": {},
          "execution_count": 2
        }
      ],
      "source": [
        "!pip install gradio --quiet\n",
        "import pandas as pd, matplotlib.pyplot as plt\n",
        "from sklearn.cluster import KMeans\n",
        "from sklearn.preprocessing import StandardScaler\n",
        "import gradio as gr\n",
        "import io\n",
        "\n",
        "def cluster_plot(file):\n",
        "    try:\n",
        "        # Use uploaded file or fallback to built-in demo data\n",
        "        df = pd.read_csv(file.name if file else \"https://raw.githubusercontent.com/selva86/datasets/master/Mall_Customers.csv\")\n",
        "    except:\n",
        "        return \"❌ Error loading the CSV file. Please try another file.\"\n",
        "\n",
        "    X = df[['Annual Income (k$)', 'Spending Score (1-100)']]\n",
        "    X_scaled = StandardScaler().fit_transform(X)\n",
        "    labels = KMeans(n_clusters=5, random_state=0).fit_predict(X_scaled)\n",
        "\n",
        "    plt.figure(figsize=(6, 4))\n",
        "    plt.scatter(X_scaled[:, 0], X_scaled[:, 1], c=labels, cmap='rainbow')\n",
        "    plt.xlabel(\"Annual Income\"), plt.ylabel(\"Spending Score\")\n",
        "    plt.title(\"Customer Segmentation\"), plt.tight_layout()\n",
        "    plt.savefig(\"segmentation_plot.png\")\n",
        "    plt.close()\n",
        "    return \"segmentation_plot.png\"\n",
        "\n",
        "gr.Interface(\n",
        "    fn=cluster_plot,\n",
        "    inputs=gr.File(label=\"Upload CSV with 'Annual Income (k$)' & 'Spending Score (1-100)'\", file_types=[\".csv\"]),\n",
        "    outputs=\"image\",\n",
        "    title=\"Customer Segmentation (KMeans Clustering)\"\n",
        ").launch()\n",
        "\n"
      ]
    }
  ]
}